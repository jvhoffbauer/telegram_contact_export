{
 "cells": [
  {
   "cell_type": "code",
   "execution_count": null,
   "id": "comprehensive-macro",
   "metadata": {},
   "outputs": [],
   "source": [
    "import os\n",
    "import base64\n",
    "\n",
    "import telethon\n",
    "from telethon import TelegramClient, events, sync, utils\n",
    "import vobject\n",
    "import tqdm"
   ]
  },
  {
   "cell_type": "code",
   "execution_count": null,
   "id": "sexual-glance",
   "metadata": {},
   "outputs": [],
   "source": [
    "def create_vcard(first_name, last_name, phone, photo):\n",
    "    \"\"\"\n",
    "    first_name: \n",
    "    last_name: \n",
    "    phone: \n",
    "    contact_image: contact image, should be bytes of a jpg image. E.g. as returned by telethon.client.download_profile_photo\n",
    "    \"\"\"\n",
    "    \n",
    "    if first_name is None: \n",
    "        first_name = ''\n",
    "    if last_name is None: \n",
    "        last_name = ''\n",
    "    \n",
    "    vcard = vobject.vCard()\n",
    "\n",
    "    vcard.add('n')\n",
    "    vcard.n.value = vobject.vcard.Name(family=last_name, given=first_name)\n",
    "\n",
    "    vcard.add('fn')\n",
    "    vcard.fn.value = (\"%s %s\" % (first_name, last_name)).strip()\n",
    "\n",
    "    vcard.add('tel')\n",
    "    vcard.tel.type = ['CELL', 'VOICE', 'pref']\n",
    "    vcard.tel.value = str(phone)\n",
    "\n",
    "    if photo is not None:\n",
    "        o = vcard.add('PHOTO;ENCODING=b;TYPE=image/jpeg')\n",
    "        o.value = base64.b64encode(photo).decode('utf-8')\n",
    "\n",
    "    return vcard"
   ]
  },
  {
   "cell_type": "code",
   "execution_count": null,
   "id": "subsequent-sussex",
   "metadata": {},
   "outputs": [],
   "source": [
    "print('You can find the Api Id and Hash here: https://my.telegram.org/apps')\n",
    "api_id = input('Api Id: ')\n",
    "api_hash = input('Api Has: ')\n",
    "\n",
    "client = TelegramClient('my_session', api_id, api_hash)\n",
    "await client.start()\n",
    "\n",
    "me = await client.get_me()"
   ]
  },
  {
   "cell_type": "code",
   "execution_count": null,
   "id": "fantastic-grove",
   "metadata": {},
   "outputs": [],
   "source": [
    "dialogs = await client.get_dialogs(limit=None)\n",
    "len(dialogs)"
   ]
  },
  {
   "cell_type": "code",
   "execution_count": null,
   "id": "packed-farming",
   "metadata": {},
   "outputs": [],
   "source": [
    "def is_user(entity):\n",
    "    user_type = telethon.tl.types.User\n",
    "    return isinstance(entity, user_type)\n",
    "\n",
    "def has_phone(user): \n",
    "    return user.phone is not None\n",
    "    \n",
    "    \n",
    "entities = [d.entity for d in dialogs]\n",
    "users = [e for e in entities if is_user(e) and has_phone(e) and e.first_name != 'Telegram']\n",
    "\n",
    "vcards = []\n",
    "for user in tqdm.tqdm(users): \n",
    "    vcard = create_vcard(\n",
    "        first_name = user.first_name,\n",
    "        last_name = user.last_name,\n",
    "        phone = user.phone,\n",
    "        photo = await client.download_profile_photo(user, file=bytes, download_big=True)\n",
    "    )\n",
    "    vcards += [vcard]\n"
   ]
  },
  {
   "cell_type": "code",
   "execution_count": null,
   "id": "continental-huntington",
   "metadata": {},
   "outputs": [],
   "source": [
    "os.makedirs('exported_contacts', exist_ok=True)\n",
    "\n",
    "for vcard in vcards:\n",
    "    filename = 'exported_contacts/%s.vcf' % vcard.fn.value\n",
    "    filename.replace(' ', '_')\n",
    "    \n",
    "    print('saving %s : %s' % (vcard.fn.value, vcard.tel.value))\n",
    "\n",
    "    with open(filename, 'w') as f:\n",
    "        f.write(vcard.serialize())"
   ]
  }
 ],
 "metadata": {
  "kernelspec": {
   "display_name": "Python 3",
   "language": "python",
   "name": "python3"
  },
  "language_info": {
   "codemirror_mode": {
    "name": "ipython",
    "version": 3
   },
   "file_extension": ".py",
   "mimetype": "text/x-python",
   "name": "python",
   "nbconvert_exporter": "python",
   "pygments_lexer": "ipython3",
   "version": "3.8.6"
  }
 },
 "nbformat": 4,
 "nbformat_minor": 5
}
